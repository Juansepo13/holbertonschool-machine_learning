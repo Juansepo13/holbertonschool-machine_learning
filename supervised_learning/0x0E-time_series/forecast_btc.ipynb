{
  "nbformat": 4,
  "nbformat_minor": 0,
  "metadata": {
    "colab": {
      "provenance": []
    },
    "kernelspec": {
      "name": "python3",
      "display_name": "Python 3"
    },
    "language_info": {
      "name": "python"
    },
    "accelerator": "GPU",
    "gpuClass": "standard"
  },
  "cells": [
    {
      "cell_type": "code",
      "execution_count": 1,
      "metadata": {
        "colab": {
          "base_uri": "https://localhost:8080/"
        },
        "id": "juTdQpuBlBNY",
        "outputId": "44cebe61-6552-41c3-c295-0bcf1b7e34d0"
      },
      "outputs": [
        {
          "output_type": "stream",
          "name": "stdout",
          "text": [
            "Mounted at /content/gdrive\n"
          ]
        }
      ],
      "source": [
        "# Connect with Google drive\n",
        "# -----------------------------------------------------------------------------\n",
        "\n",
        "from google.colab import drive\n",
        "drive.mount('/content/gdrive', force_remount=True)"
      ]
    },
    {
      "cell_type": "code",
      "source": [
        "# Dependencies\n",
        "# -----------------------------------------------------------------------------\n",
        "\n",
        "import os\n",
        "import numpy as np\n",
        "import pandas as pd\n",
        "import matplotlib as mpl\n",
        "import tensorflow as tf\n",
        "import tensorflow.keras as K\n",
        "import matplotlib.pyplot as plt\n",
        "import seaborn as sn\n",
        "\n",
        "mpl.rcParams['figure.figsize'] = (12, 8)"
      ],
      "metadata": {
        "id": "I7IVt8vllej1"
      },
      "execution_count": 2,
      "outputs": []
    },
    {
      "cell_type": "code",
      "source": [
        "# Universal constant\n",
        "# -----------------------------------------------------------------------------\n",
        "\n",
        "BATCH_SIZE = 64\n",
        "MAX_EPOCHS = 20\n",
        "STEPS_PER_EPOCH = 1000\n",
        "VALIDATION_STEPS = 100\n",
        "INUPT_WIDTH = 24\n",
        "LABEL_WIDTH = 1\n",
        "STRIDE_WIDTH = 1\n",
        "BUFFER_SIZE = 10000\n",
        "\n",
        "# PS: Try to provide and fork dataset from this links\n",
        "# https://drive.google.com/file/d/1-2qi4aEYeMuvESgPemzWUgRhwZwmMOE8/view\n",
        "# https://drive.google.com/file/d/1-1k5W0hhJPCt7Kaxrw6ECsYcWxCiMdt7/view\n",
        "\n",
        "BITSTAMP_CSV = '/content/bitstampUSD_1-min_data_2012-01-01_to_2020-04-22.csv'\n",
        "COINBASE_CSV = '/content/coinbaseUSD_1-min_data_2014-12-01_to_2019-01-09.csv'"
      ],
      "metadata": {
        "id": "ggmpE0qeljqj"
      },
      "execution_count": 3,
      "outputs": []
    },
    {
      "cell_type": "code",
      "source": [
        "# Extract dataframe from csv\n",
        "# -----------------------------------------------------------------------------\n",
        "\n",
        "bitstamp_df = pd.read_csv(BITSTAMP_CSV)\n",
        "coinbase_df = pd.read_csv(COINBASE_CSV)"
      ],
      "metadata": {
        "id": "KzTSxtKLlx2_"
      },
      "execution_count": 4,
      "outputs": []
    },
    {
      "cell_type": "markdown",
      "source": [
        "**Data preprocessing**\n",
        "\n",
        "We need to check the percentage of missing value per column, try to visualize dataframe. In addition the dataframe is windowed per 60 second so we need to recast for need by windowing hourly"
      ],
      "metadata": {
        "id": "FcoMRFWMl1qS"
      }
    },
    {
      "cell_type": "code",
      "source": [
        "bitstamp_df.describe().transpose()"
      ],
      "metadata": {
        "colab": {
          "base_uri": "https://localhost:8080/",
          "height": 300
        },
        "id": "gYqvsAjZl5-W",
        "outputId": "5d2e0b3d-e136-47cd-d9c8-05450126f60a"
      },
      "execution_count": 5,
      "outputs": [
        {
          "output_type": "execute_result",
          "data": {
            "text/plain": [
              "                       count          mean           std           min  \\\n",
              "Timestamp          1117517.0  1.358843e+09  1.935597e+07  1.325318e+09   \n",
              "Open                401378.0  3.119434e+02  3.207633e+02  3.800000e+00   \n",
              "High                401377.0  3.123487e+02  3.212243e+02  3.800000e+00   \n",
              "Low                 401377.0  3.114978e+02  3.202688e+02  3.800000e+00   \n",
              "Close               401377.0  3.119341e+02  3.207674e+02  3.800000e+00   \n",
              "Volume_(BTC)        401377.0  1.588993e+01  4.828056e+01  0.000000e+00   \n",
              "Volume_(Currency)   401377.0  5.358290e+03  2.251597e+04  0.000000e+00   \n",
              "Weighted_Price      401377.0  3.119096e+02  3.207280e+02  3.800000e+00   \n",
              "\n",
              "                            25%           50%           75%           max  \n",
              "Timestamp          1.342081e+09  1.358843e+09  1.375606e+09  1.392369e+09  \n",
              "Open               9.792000e+01  1.265800e+02  6.549900e+02  1.163000e+03  \n",
              "High               9.798000e+01  1.266500e+02  6.558400e+02  1.163000e+03  \n",
              "Low                9.784000e+01  1.265000e+02  6.540000e+02  1.162990e+03  \n",
              "Close              9.791000e+01  1.265700e+02  6.550000e+02  1.163000e+03  \n",
              "Volume_(BTC)       8.925663e-01  2.981094e+00  1.164396e+01  3.379751e+03  \n",
              "Volume_(Currency)  1.039508e+02  4.186310e+02  2.387775e+03  1.865889e+06  \n",
              "Weighted_Price     9.790142e+01  1.265700e+02  6.549320e+02  1.163000e+03  "
            ],
            "text/html": [
              "\n",
              "  <div id=\"df-b82b169b-dfa6-427d-8597-fdc62626e19e\">\n",
              "    <div class=\"colab-df-container\">\n",
              "      <div>\n",
              "<style scoped>\n",
              "    .dataframe tbody tr th:only-of-type {\n",
              "        vertical-align: middle;\n",
              "    }\n",
              "\n",
              "    .dataframe tbody tr th {\n",
              "        vertical-align: top;\n",
              "    }\n",
              "\n",
              "    .dataframe thead th {\n",
              "        text-align: right;\n",
              "    }\n",
              "</style>\n",
              "<table border=\"1\" class=\"dataframe\">\n",
              "  <thead>\n",
              "    <tr style=\"text-align: right;\">\n",
              "      <th></th>\n",
              "      <th>count</th>\n",
              "      <th>mean</th>\n",
              "      <th>std</th>\n",
              "      <th>min</th>\n",
              "      <th>25%</th>\n",
              "      <th>50%</th>\n",
              "      <th>75%</th>\n",
              "      <th>max</th>\n",
              "    </tr>\n",
              "  </thead>\n",
              "  <tbody>\n",
              "    <tr>\n",
              "      <th>Timestamp</th>\n",
              "      <td>1117517.0</td>\n",
              "      <td>1.358843e+09</td>\n",
              "      <td>1.935597e+07</td>\n",
              "      <td>1.325318e+09</td>\n",
              "      <td>1.342081e+09</td>\n",
              "      <td>1.358843e+09</td>\n",
              "      <td>1.375606e+09</td>\n",
              "      <td>1.392369e+09</td>\n",
              "    </tr>\n",
              "    <tr>\n",
              "      <th>Open</th>\n",
              "      <td>401378.0</td>\n",
              "      <td>3.119434e+02</td>\n",
              "      <td>3.207633e+02</td>\n",
              "      <td>3.800000e+00</td>\n",
              "      <td>9.792000e+01</td>\n",
              "      <td>1.265800e+02</td>\n",
              "      <td>6.549900e+02</td>\n",
              "      <td>1.163000e+03</td>\n",
              "    </tr>\n",
              "    <tr>\n",
              "      <th>High</th>\n",
              "      <td>401377.0</td>\n",
              "      <td>3.123487e+02</td>\n",
              "      <td>3.212243e+02</td>\n",
              "      <td>3.800000e+00</td>\n",
              "      <td>9.798000e+01</td>\n",
              "      <td>1.266500e+02</td>\n",
              "      <td>6.558400e+02</td>\n",
              "      <td>1.163000e+03</td>\n",
              "    </tr>\n",
              "    <tr>\n",
              "      <th>Low</th>\n",
              "      <td>401377.0</td>\n",
              "      <td>3.114978e+02</td>\n",
              "      <td>3.202688e+02</td>\n",
              "      <td>3.800000e+00</td>\n",
              "      <td>9.784000e+01</td>\n",
              "      <td>1.265000e+02</td>\n",
              "      <td>6.540000e+02</td>\n",
              "      <td>1.162990e+03</td>\n",
              "    </tr>\n",
              "    <tr>\n",
              "      <th>Close</th>\n",
              "      <td>401377.0</td>\n",
              "      <td>3.119341e+02</td>\n",
              "      <td>3.207674e+02</td>\n",
              "      <td>3.800000e+00</td>\n",
              "      <td>9.791000e+01</td>\n",
              "      <td>1.265700e+02</td>\n",
              "      <td>6.550000e+02</td>\n",
              "      <td>1.163000e+03</td>\n",
              "    </tr>\n",
              "    <tr>\n",
              "      <th>Volume_(BTC)</th>\n",
              "      <td>401377.0</td>\n",
              "      <td>1.588993e+01</td>\n",
              "      <td>4.828056e+01</td>\n",
              "      <td>0.000000e+00</td>\n",
              "      <td>8.925663e-01</td>\n",
              "      <td>2.981094e+00</td>\n",
              "      <td>1.164396e+01</td>\n",
              "      <td>3.379751e+03</td>\n",
              "    </tr>\n",
              "    <tr>\n",
              "      <th>Volume_(Currency)</th>\n",
              "      <td>401377.0</td>\n",
              "      <td>5.358290e+03</td>\n",
              "      <td>2.251597e+04</td>\n",
              "      <td>0.000000e+00</td>\n",
              "      <td>1.039508e+02</td>\n",
              "      <td>4.186310e+02</td>\n",
              "      <td>2.387775e+03</td>\n",
              "      <td>1.865889e+06</td>\n",
              "    </tr>\n",
              "    <tr>\n",
              "      <th>Weighted_Price</th>\n",
              "      <td>401377.0</td>\n",
              "      <td>3.119096e+02</td>\n",
              "      <td>3.207280e+02</td>\n",
              "      <td>3.800000e+00</td>\n",
              "      <td>9.790142e+01</td>\n",
              "      <td>1.265700e+02</td>\n",
              "      <td>6.549320e+02</td>\n",
              "      <td>1.163000e+03</td>\n",
              "    </tr>\n",
              "  </tbody>\n",
              "</table>\n",
              "</div>\n",
              "      <button class=\"colab-df-convert\" onclick=\"convertToInteractive('df-b82b169b-dfa6-427d-8597-fdc62626e19e')\"\n",
              "              title=\"Convert this dataframe to an interactive table.\"\n",
              "              style=\"display:none;\">\n",
              "        \n",
              "  <svg xmlns=\"http://www.w3.org/2000/svg\" height=\"24px\"viewBox=\"0 0 24 24\"\n",
              "       width=\"24px\">\n",
              "    <path d=\"M0 0h24v24H0V0z\" fill=\"none\"/>\n",
              "    <path d=\"M18.56 5.44l.94 2.06.94-2.06 2.06-.94-2.06-.94-.94-2.06-.94 2.06-2.06.94zm-11 1L8.5 8.5l.94-2.06 2.06-.94-2.06-.94L8.5 2.5l-.94 2.06-2.06.94zm10 10l.94 2.06.94-2.06 2.06-.94-2.06-.94-.94-2.06-.94 2.06-2.06.94z\"/><path d=\"M17.41 7.96l-1.37-1.37c-.4-.4-.92-.59-1.43-.59-.52 0-1.04.2-1.43.59L10.3 9.45l-7.72 7.72c-.78.78-.78 2.05 0 2.83L4 21.41c.39.39.9.59 1.41.59.51 0 1.02-.2 1.41-.59l7.78-7.78 2.81-2.81c.8-.78.8-2.07 0-2.86zM5.41 20L4 18.59l7.72-7.72 1.47 1.35L5.41 20z\"/>\n",
              "  </svg>\n",
              "      </button>\n",
              "      \n",
              "  <style>\n",
              "    .colab-df-container {\n",
              "      display:flex;\n",
              "      flex-wrap:wrap;\n",
              "      gap: 12px;\n",
              "    }\n",
              "\n",
              "    .colab-df-convert {\n",
              "      background-color: #E8F0FE;\n",
              "      border: none;\n",
              "      border-radius: 50%;\n",
              "      cursor: pointer;\n",
              "      display: none;\n",
              "      fill: #1967D2;\n",
              "      height: 32px;\n",
              "      padding: 0 0 0 0;\n",
              "      width: 32px;\n",
              "    }\n",
              "\n",
              "    .colab-df-convert:hover {\n",
              "      background-color: #E2EBFA;\n",
              "      box-shadow: 0px 1px 2px rgba(60, 64, 67, 0.3), 0px 1px 3px 1px rgba(60, 64, 67, 0.15);\n",
              "      fill: #174EA6;\n",
              "    }\n",
              "\n",
              "    [theme=dark] .colab-df-convert {\n",
              "      background-color: #3B4455;\n",
              "      fill: #D2E3FC;\n",
              "    }\n",
              "\n",
              "    [theme=dark] .colab-df-convert:hover {\n",
              "      background-color: #434B5C;\n",
              "      box-shadow: 0px 1px 3px 1px rgba(0, 0, 0, 0.15);\n",
              "      filter: drop-shadow(0px 1px 2px rgba(0, 0, 0, 0.3));\n",
              "      fill: #FFFFFF;\n",
              "    }\n",
              "  </style>\n",
              "\n",
              "      <script>\n",
              "        const buttonEl =\n",
              "          document.querySelector('#df-b82b169b-dfa6-427d-8597-fdc62626e19e button.colab-df-convert');\n",
              "        buttonEl.style.display =\n",
              "          google.colab.kernel.accessAllowed ? 'block' : 'none';\n",
              "\n",
              "        async function convertToInteractive(key) {\n",
              "          const element = document.querySelector('#df-b82b169b-dfa6-427d-8597-fdc62626e19e');\n",
              "          const dataTable =\n",
              "            await google.colab.kernel.invokeFunction('convertToInteractive',\n",
              "                                                     [key], {});\n",
              "          if (!dataTable) return;\n",
              "\n",
              "          const docLinkHtml = 'Like what you see? Visit the ' +\n",
              "            '<a target=\"_blank\" href=https://colab.research.google.com/notebooks/data_table.ipynb>data table notebook</a>'\n",
              "            + ' to learn more about interactive tables.';\n",
              "          element.innerHTML = '';\n",
              "          dataTable['output_type'] = 'display_data';\n",
              "          await google.colab.output.renderOutput(dataTable, element);\n",
              "          const docLink = document.createElement('div');\n",
              "          docLink.innerHTML = docLinkHtml;\n",
              "          element.appendChild(docLink);\n",
              "        }\n",
              "      </script>\n",
              "    </div>\n",
              "  </div>\n",
              "  "
            ]
          },
          "metadata": {},
          "execution_count": 5
        }
      ]
    },
    {
      "cell_type": "code",
      "source": [
        "# There is a big difference between the count of timestamp (raws) and the available value per column\n",
        "bitstamp_df.isna().sum()\n"
      ],
      "metadata": {
        "colab": {
          "base_uri": "https://localhost:8080/"
        },
        "id": "fAAjROX8mF60",
        "outputId": "d099c65a-5b41-4837-d179-73dd0e8f401c"
      },
      "execution_count": 6,
      "outputs": [
        {
          "output_type": "execute_result",
          "data": {
            "text/plain": [
              "Timestamp                 0\n",
              "Open                 716139\n",
              "High                 716140\n",
              "Low                  716140\n",
              "Close                716140\n",
              "Volume_(BTC)         716140\n",
              "Volume_(Currency)    716140\n",
              "Weighted_Price       716140\n",
              "dtype: int64"
            ]
          },
          "metadata": {},
          "execution_count": 6
        }
      ]
    },
    {
      "cell_type": "code",
      "source": [
        "# In order to handle this missing value we use teh Forward Filling method in order to cast this missing value\n",
        "# I find this resource on Kaggle https://www.kaggle.com/juejuewang/handle-missing-values-in-time-series-for-beginners\n",
        "df = bitstamp_df.ffill()\n",
        "df.isna().sum()"
      ],
      "metadata": {
        "colab": {
          "base_uri": "https://localhost:8080/"
        },
        "id": "ncqM_lKumOG0",
        "outputId": "9dba7f26-5ea3-44fe-95fb-57a4f9657190"
      },
      "execution_count": 7,
      "outputs": [
        {
          "output_type": "execute_result",
          "data": {
            "text/plain": [
              "Timestamp            0\n",
              "Open                 0\n",
              "High                 0\n",
              "Low                  0\n",
              "Close                0\n",
              "Volume_(BTC)         0\n",
              "Volume_(Currency)    0\n",
              "Weighted_Price       0\n",
              "dtype: int64"
            ]
          },
          "metadata": {},
          "execution_count": 7
        }
      ]
    },
    {
      "cell_type": "code",
      "source": [
        "# let's drop the Timestamp column\n",
        "date_time = pd.to_datetime(df.pop('Timestamp'), unit='s')"
      ],
      "metadata": {
        "id": "L628ux32masz"
      },
      "execution_count": 10,
      "outputs": []
    },
    {
      "cell_type": "code",
      "source": [
        "# Convert out dataframe to be hourly windowed instead of minutes with a shift by 8 row\n",
        "df = df[8::60]\n",
        "date_time = date_time[8::60]"
      ],
      "metadata": {
        "id": "iPxSHxWInDsT"
      },
      "execution_count": 11,
      "outputs": []
    },
    {
      "cell_type": "code",
      "source": [
        "# Data correlation\n",
        "# -----------------------------------------------------------------------------\n",
        "correlation_matrix = df.corr()\n",
        "plt.figure(figsize=(12, 8))\n",
        "sn.heatmap(correlation_matrix, annot=True)\n",
        "plt.show()"
      ],
      "metadata": {
        "colab": {
          "base_uri": "https://localhost:8080/",
          "height": 572
        },
        "id": "0p4cOgttnH08",
        "outputId": "76efcd68-50b6-4e11-b1a7-16ab51732dab"
      },
      "execution_count": 12,
      "outputs": [
        {
          "output_type": "display_data",
          "data": {
            "text/plain": [
              "<Figure size 864x576 with 2 Axes>"
            ],
            "image/png": "[encoded data removed]"
          },
          "metadata": {
            "needs_background": "light"
          }
        }
      ]
    },
    {
      "cell_type": "markdown",
      "source": [
        "**Observation**\n",
        "\n",
        "*   There are a fully correlated Features which make working of the full features a redundant process\n",
        "\n",
        "\n",
        "\n"
      ],
      "metadata": {
        "id": "ww8853_PnLZe"
      }
    },
    {
      "cell_type": "code",
      "source": [
        "# Droping none relevant features\n",
        "df.drop(['Open', 'High', 'Low', 'Close'], axis=1, inplace=True)"
      ],
      "metadata": {
        "id": "2TmEm-9pnRCk"
      },
      "execution_count": 13,
      "outputs": []
    },
    {
      "cell_type": "code",
      "source": [
        "# Visualizing data\n",
        "# -----------------------------------------------------------------------------\n",
        "\n",
        "plot_cols = df.columns.to_list()\n",
        "plot_features = df[plot_cols]\n",
        "plot_features.index = date_time\n",
        "_ = plot_features.plot(subplots=True)\n"
      ],
      "metadata": {
        "colab": {
          "base_uri": "https://localhost:8080/",
          "height": 510
        },
        "id": "RkKWuTWEnVAN",
        "outputId": "66a929a2-c939-4434-bb31-320502abd808"
      },
      "execution_count": 14,
      "outputs": [
        {
          "output_type": "display_data",
          "data": {
            "text/plain": [
              "<Figure size 864x576 with 3 Axes>"
            ],
            "image/png": "[encoded data removed]"
          },
          "metadata": {
            "needs_background": "light"
          }
        }
      ]
    },
    {
      "cell_type": "code",
      "source": [
        "# Split data\n",
        "# -----------------------------------------------------------------------------\n",
        "\n",
        "n = len(df)\n",
        "train_split = int(n * 0.8)\n",
        "\n",
        "train_df = df[:train_split]\n",
        "valid_df = df[train_split:]"
      ],
      "metadata": {
        "id": "Aw45vpcEnZOh"
      },
      "execution_count": 15,
      "outputs": []
    },
    {
      "cell_type": "code",
      "source": [
        "# Normalization\n",
        "# -----------------------------------------------------------------------------\n",
        "\n",
        "train_mean = train_df.mean()\n",
        "train_std = train_df.std()\n",
        "\n",
        "train_df = (train_df - train_mean) / train_std\n",
        "valid_df = (valid_df - train_mean) / train_std"
      ],
      "metadata": {
        "id": "9MhcKuSVncDh"
      },
      "execution_count": 16,
      "outputs": []
    },
    {
      "cell_type": "code",
      "source": [
        "# Split to window\n",
        "# -----------------------------------------------------------------------------\n",
        "\n",
        "def split_window(dataframe):\n",
        "  input_slice = slice(0, INUPT_WIDTH)\n",
        "  labels_slice = slice(INUPT_WIDTH, None)\n",
        "\n",
        "  inputs = dataframe[:, input_slice, :]\n",
        "  labels = dataframe[:, labels_slice, :]\n",
        "\n",
        "  labels = labels[:, :, -1:]\n",
        "\n",
        "  inputs.set_shape([None, INUPT_WIDTH, None])\n",
        "  labels.set_shape([None, LABEL_WIDTH, None])\n",
        "\n",
        "  return inputs, labels"
      ],
      "metadata": {
        "id": "v8d7VaBmnjH3"
      },
      "execution_count": 17,
      "outputs": []
    },
    {
      "cell_type": "code",
      "source": [
        "# Build datasets\n",
        "# -----------------------------------------------------------------------------\n",
        "\n",
        "def make_dataset(data):\n",
        "  data = np.array(data, dtype=np.float32)\n",
        "  ds = tf.keras.preprocessing.timeseries_dataset_from_array(\n",
        "      data=data,\n",
        "      targets=None,\n",
        "      sequence_length=INUPT_WIDTH + LABEL_WIDTH,\n",
        "      sequence_stride=1,\n",
        "      shuffle=True,\n",
        "      batch_size=BATCH_SIZE\n",
        "  )\n",
        "\n",
        "\n",
        "  ds = ds.map(split_window)\n",
        "\n",
        "  return ds"
      ],
      "metadata": {
        "id": "_R8_nutLnnWk"
      },
      "execution_count": 18,
      "outputs": []
    },
    {
      "cell_type": "code",
      "source": [
        "# Create train and validation datasets\n",
        "\n",
        "train_ds = make_dataset(train_df)\n",
        "valid_ds = make_dataset(valid_df)"
      ],
      "metadata": {
        "id": "DLPPxFrnnp-X"
      },
      "execution_count": 19,
      "outputs": []
    },
    {
      "cell_type": "code",
      "source": [
        "# Compile and fit model\n",
        "# -----------------------------------------------------------------------------\n",
        "def compile_and_fit(model, train_ds, valid_ds, patience=2):\n",
        "  early_stopping = tf.keras.callbacks.EarlyStopping(\n",
        "    monitor='val_loss',\n",
        "    patience=patience,\n",
        "    mode='min'\n",
        "  )\n",
        "\n",
        "  model.compile(\n",
        "    loss=tf.losses.MeanSquaredError(),\n",
        "    optimizer=tf.optimizers.Adam(),\n",
        "    metrics=[tf.metrics.MeanAbsoluteError()]\n",
        "  )\n",
        "\n",
        "  history = model.fit(\n",
        "    train_ds,\n",
        "    epochs=MAX_EPOCHS,\n",
        "    validation_data=valid_ds,\n",
        "    callbacks=[early_stopping]\n",
        "  )\n",
        "  return history"
      ],
      "metadata": {
        "id": "YcCHTWaVnssd"
      },
      "execution_count": 20,
      "outputs": []
    },
    {
      "cell_type": "code",
      "source": [
        "# Build RNN module using LSTM Gate\n",
        "\n",
        "lstm_model = K.models.Sequential([\n",
        "    K.layers.LSTM(64, return_sequences=False),\n",
        "    K.layers.Dense(units=1)\n",
        "])"
      ],
      "metadata": {
        "id": "rnF3kGsVn1a1"
      },
      "execution_count": 21,
      "outputs": []
    },
    {
      "cell_type": "code",
      "source": [
        "# Train model\n",
        "\n",
        "history = compile_and_fit(lstm_model, train_ds, valid_ds)"
      ],
      "metadata": {
        "colab": {
          "base_uri": "https://localhost:8080/"
        },
        "id": "uxanmZuSn1VI",
        "outputId": "9b728cfc-8718-46f7-b21c-3550aae1d587"
      },
      "execution_count": 22,
      "outputs": [
        {
          "output_type": "stream",
          "name": "stdout",
          "text": [
            "Epoch 1/20\n",
            "233/233 [==============================] - 10s 12ms/step - loss: 0.0231 - mean_absolute_error: 0.0623 - val_loss: 93.2849 - val_mean_absolute_error: 7.3348\n",
            "Epoch 2/20\n",
            "233/233 [==============================] - 2s 10ms/step - loss: 0.0030 - mean_absolute_error: 0.0220 - val_loss: 83.5160 - val_mean_absolute_error: 6.9088\n",
            "Epoch 3/20\n",
            "233/233 [==============================] - 3s 11ms/step - loss: 0.0022 - mean_absolute_error: 0.0175 - val_loss: 76.4392 - val_mean_absolute_error: 6.5702\n",
            "Epoch 4/20\n",
            "233/233 [==============================] - 2s 10ms/step - loss: 0.0019 - mean_absolute_error: 0.0173 - val_loss: 71.0304 - val_mean_absolute_error: 6.3093\n",
            "Epoch 5/20\n",
            "233/233 [==============================] - 2s 10ms/step - loss: 0.0016 - mean_absolute_error: 0.0161 - val_loss: 65.7332 - val_mean_absolute_error: 6.0499\n",
            "Epoch 6/20\n",
            "233/233 [==============================] - 2s 11ms/step - loss: 0.0015 - mean_absolute_error: 0.0173 - val_loss: 62.0148 - val_mean_absolute_error: 5.8618\n",
            "Epoch 7/20\n",
            "233/233 [==============================] - 2s 9ms/step - loss: 0.0014 - mean_absolute_error: 0.0154 - val_loss: 58.9981 - val_mean_absolute_error: 5.7055\n",
            "Epoch 8/20\n",
            "233/233 [==============================] - 2s 10ms/step - loss: 0.0012 - mean_absolute_error: 0.0143 - val_loss: 56.6831 - val_mean_absolute_error: 5.5892\n",
            "Epoch 9/20\n",
            "233/233 [==============================] - 3s 11ms/step - loss: 0.0012 - mean_absolute_error: 0.0138 - val_loss: 55.4444 - val_mean_absolute_error: 5.5228\n",
            "Epoch 10/20\n",
            "233/233 [==============================] - 2s 10ms/step - loss: 0.0012 - mean_absolute_error: 0.0142 - val_loss: 53.9639 - val_mean_absolute_error: 5.4410\n",
            "Epoch 11/20\n",
            "233/233 [==============================] - 2s 9ms/step - loss: 0.0011 - mean_absolute_error: 0.0140 - val_loss: 53.0883 - val_mean_absolute_error: 5.3969\n",
            "Epoch 12/20\n",
            "233/233 [==============================] - 2s 9ms/step - loss: 0.0012 - mean_absolute_error: 0.0144 - val_loss: 51.4718 - val_mean_absolute_error: 5.2992\n",
            "Epoch 13/20\n",
            "233/233 [==============================] - 2s 10ms/step - loss: 0.0011 - mean_absolute_error: 0.0146 - val_loss: 50.4530 - val_mean_absolute_error: 5.2442\n",
            "Epoch 14/20\n",
            "233/233 [==============================] - 2s 9ms/step - loss: 0.0011 - mean_absolute_error: 0.0147 - val_loss: 49.8542 - val_mean_absolute_error: 5.2147\n",
            "Epoch 15/20\n",
            "233/233 [==============================] - 2s 10ms/step - loss: 0.0011 - mean_absolute_error: 0.0143 - val_loss: 47.9935 - val_mean_absolute_error: 5.1186\n",
            "Epoch 16/20\n",
            "233/233 [==============================] - 2s 10ms/step - loss: 9.7936e-04 - mean_absolute_error: 0.0123 - val_loss: 48.6024 - val_mean_absolute_error: 5.1474\n",
            "Epoch 17/20\n",
            "233/233 [==============================] - 2s 10ms/step - loss: 9.7475e-04 - mean_absolute_error: 0.0128 - val_loss: 47.9597 - val_mean_absolute_error: 5.1217\n",
            "Epoch 18/20\n",
            "233/233 [==============================] - 2s 10ms/step - loss: 9.2272e-04 - mean_absolute_error: 0.0122 - val_loss: 47.5365 - val_mean_absolute_error: 5.0885\n",
            "Epoch 19/20\n",
            "233/233 [==============================] - 2s 10ms/step - loss: 9.6938e-04 - mean_absolute_error: 0.0137 - val_loss: 45.9356 - val_mean_absolute_error: 5.0049\n",
            "Epoch 20/20\n",
            "233/233 [==============================] - 2s 9ms/step - loss: 8.7153e-04 - mean_absolute_error: 0.0116 - val_loss: 45.7584 - val_mean_absolute_error: 5.0028\n"
          ]
        }
      ]
    },
    {
      "cell_type": "code",
      "source": [
        "lstm_model.summary()"
      ],
      "metadata": {
        "colab": {
          "base_uri": "https://localhost:8080/"
        },
        "id": "QwbDuotNoIY1",
        "outputId": "54d272de-12a2-499c-9d9d-192971483e58"
      },
      "execution_count": 23,
      "outputs": [
        {
          "output_type": "stream",
          "name": "stdout",
          "text": [
            "Model: \"sequential\"\n",
            "_________________________________________________________________\n",
            " Layer (type)                Output Shape              Param #   \n",
            "=================================================================\n",
            " lstm (LSTM)                 (None, 64)                17408     \n",
            "                                                                 \n",
            " dense (Dense)               (None, 1)                 65        \n",
            "                                                                 \n",
            "=================================================================\n",
            "Total params: 17,473\n",
            "Trainable params: 17,473\n",
            "Non-trainable params: 0\n",
            "_________________________________________________________________\n"
          ]
        }
      ]
    },
    {
      "cell_type": "code",
      "source": [
        "# Plotting prediction\n",
        "# -----------------------------------------------------------------------------\n",
        "\n",
        "for b, (x, y) in enumerate(train_ds.take(3)):\n",
        "  plt.subplot(3, 1, b+1)\n",
        "  plt.plot(list(range(24)), x[b, :, -1])\n",
        "  plt.plot(24, y[b].numpy(), 'r*')\n",
        "  plt.plot(24, lstm_model.predict(x)[b], 'bs')"
      ],
      "metadata": {
        "colab": {
          "base_uri": "https://localhost:8080/",
          "height": 538
        },
        "id": "hTNZwTjooMHd",
        "outputId": "d2f04cc5-dc39-4902-82f0-f845d041816f"
      },
      "execution_count": 24,
      "outputs": [
        {
          "output_type": "stream",
          "name": "stdout",
          "text": [
            "2/2 [==============================] - 1s 8ms/step\n",
            "2/2 [==============================] - 0s 12ms/step\n",
            "2/2 [==============================] - 0s 7ms/step\n"
          ]
        },
        {
          "output_type": "display_data",
          "data": {
            "text/plain": [
              "<Figure size 864x576 with 3 Axes>"
            ],
            "image/png": "[encoded data removed]"
          },
          "metadata": {
            "needs_background": "light"
          }
        }
      ]
    }
  ]
}